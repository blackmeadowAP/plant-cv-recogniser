{
 "cells": [
  {
   "cell_type": "code",
   "execution_count": 125,
   "id": "26c60eaa-fcda-496c-be63-3d9abf2f9498",
   "metadata": {},
   "outputs": [],
   "source": [
    "import cv2\n",
    "import numpy as np\n",
    "import os\n",
    "\n",
    "def view(img): # показ изображения\n",
    "    img = cv2.resize(img, (502, 628), cv2.INTER_NEAREST)\n",
    "    cv2.imshow('LEAFS', img)\n",
    "    cv2.waitKey(0)\n",
    "    cv2.destroyAllWindows()"
   ]
  },
  {
   "cell_type": "code",
   "execution_count": 141,
   "id": "608b5c53-1688-42ad-b834-35ea0e0afc4b",
   "metadata": {
    "tags": []
   },
   "outputs": [],
   "source": [
    "# Создаем контуры листьев\n",
    "img1 = cv2.imread('p2.png')\n",
    "\n",
    "low = np.array([200, 200, 200])\n",
    "high = np.array([255, 255, 255])\n",
    "mask = cv2.inRange(img1, low, high)\n",
    "img1[mask > 0] = ([255, 255, 255])\n",
    "\n",
    "gray = cv2.cvtColor(img1, cv2.COLOR_RGB2GRAY) \n",
    "gray = cv2.medianBlur(gray, 69)\n",
    "_, thr = cv2.threshold(gray, 200, 255, cv2.THRESH_BINARY)\n",
    "contours, hierarchy = cv2.findContours(thr, cv2.RETR_TREE, cv2.CHAIN_APPROX_SIMPLE)\n",
    "hierarchy = hierarchy[0][1:]\n",
    "contours = contours[1:]\n",
    "max_area = max([cv2.contourArea(x, False) for x in contours]) \n",
    "contours = [cv2.convexHull(contours[i], False) for i in range(len(contours)) if cv2.contourArea(contours[i]) > max_area / 3]\n",
    "#cv2.drawContours(img1, contours, -1, (0, 0, 250), 10)\n",
    "\n",
    "if 'storage' not in os.listdir():\n",
    "    os.makedirs('storage')\n",
    "    \n",
    "for idx in range(len(contours)):\n",
    "    mask = np.zeros_like(img1) # вектор с нулями, каждый пиксель представлен 0 - черный цвет\n",
    "    cv2.drawContours(mask, contours, idx, [255, 255, 255], -1) # Рисуем на mask контур из contours под индексом idx белого цвета (-1 - заполненный контур)\n",
    "    # Получаем черное изображение с белым пятном листа\n",
    "    out = np.zeros_like(img) # Создаем еще один нулевой вектор, в него будем записывать изображение\n",
    "    out[mask == [255, 255, 255]] = img1[mask == [255, 255, 255]] # пиксели out[аналогичные пиксели в mask = 255] заменяются на пиксели img[аналогичные пиксели в mask = 255]\n",
    "    \n",
    "    x, y, w, h = cv2.boundingRect(contours[idx])\n",
    "    y = y - 100\n",
    "    x = x - 100\n",
    "    ROI = out[y:y+h+200, x:x+w+200]\n",
    "    \n",
    "    low = np.array([0, 0, 0])\n",
    "    high = np.array([1, 1, 1])\n",
    "    mask = cv2.inRange(ROI, low, high)\n",
    "    ROI[mask > 0] = ([255, 255, 255])\n",
    "    cv2.imwrite(f'storage/{idx+1} list.png', ROI)"
   ]
  },
  {
   "cell_type": "code",
   "execution_count": 122,
   "id": "5caac5b0-0fe4-496b-8847-99da8dc82a80",
   "metadata": {
    "tags": []
   },
   "outputs": [
    {
     "ename": "error",
     "evalue": "OpenCV(4.8.1) :-1: error: (-5:Bad argument) in function 'threshold'\n> Overload resolution failed:\n>  - Argument 'thresh' can not be treated as a double\n>  - Argument 'thresh' can not be treated as a double\n",
     "output_type": "error",
     "traceback": [
      "\u001b[1;31m---------------------------------------------------------------------------\u001b[0m",
      "\u001b[1;31merror\u001b[0m                                     Traceback (most recent call last)",
      "Cell \u001b[1;32mIn[122], line 20\u001b[0m\n\u001b[0;32m     14\u001b[0m out[mask \u001b[38;5;241m==\u001b[39m [\u001b[38;5;241m255\u001b[39m, \u001b[38;5;241m255\u001b[39m, \u001b[38;5;241m255\u001b[39m]] \u001b[38;5;241m=\u001b[39m img[mask \u001b[38;5;241m==\u001b[39m [\u001b[38;5;241m255\u001b[39m, \u001b[38;5;241m255\u001b[39m, \u001b[38;5;241m255\u001b[39m]] \u001b[38;5;66;03m# пиксели out[аналогичные пиксели в mask = 255] заменяются на пиксели img[аналогичные пиксели в mask = 255]\u001b[39;00m\n\u001b[0;32m     16\u001b[0m viewImage(out)\n\u001b[1;32m---> 20\u001b[0m thresh \u001b[38;5;241m=\u001b[39m cv2\u001b[38;5;241m.\u001b[39mthreshold(out, [\u001b[38;5;241m0\u001b[39m, \u001b[38;5;241m0\u001b[39m ,\u001b[38;5;241m0\u001b[39m] , [\u001b[38;5;241m255\u001b[39m, \u001b[38;5;241m255\u001b[39m, \u001b[38;5;241m255\u001b[39m], cv2\u001b[38;5;241m.\u001b[39mTHRESH_OTSU \u001b[38;5;241m+\u001b[39m cv2\u001b[38;5;241m.\u001b[39mTHRESH_BINARY)[\u001b[38;5;241m1\u001b[39m]\n\u001b[0;32m     21\u001b[0m viewImage(thresh)\n\u001b[0;32m     22\u001b[0m \u001b[38;5;66;03m# Find contour and sort by contour area\u001b[39;00m\n",
      "\u001b[1;31merror\u001b[0m: OpenCV(4.8.1) :-1: error: (-5:Bad argument) in function 'threshold'\n> Overload resolution failed:\n>  - Argument 'thresh' can not be treated as a double\n>  - Argument 'thresh' can not be treated as a double\n"
     ]
    }
   ],
   "source": [
    "thresh = cv2.threshold(out, [0, 0 ,0] , [255, 255, 255], cv2.THRESH_OTSU + cv2.THRESH_BINARY)[1]\n",
    "viewImage(thresh)\n",
    "# Find contour and sort by contour area\n",
    "cnts = cv2.findContours(thresh, cv2.RETR_EXTERNAL, cv2.CHAIN_APPROX_SIMPLE)\n",
    "cnts = cnts[0] if len(cnts) == 2 else cnts[1]\n",
    "cnts = sorted(cnts, key=cv2.contourArea, reverse=True)\n",
    "\n",
    "# Find bounding box and extract ROI\n",
    "for c in cnts:\n",
    "    x,y,w,h = cv2.boundingRect(c)\n",
    "    y = y - 100\n",
    "    x = x - 100\n",
    "    ROI = out[y:y+h+200, x:x+w+200]\n",
    "    break\n",
    "\n",
    "viewImage(ROI)\n"
   ]
  },
  {
   "cell_type": "code",
   "execution_count": 5,
   "id": "2afaacee-1e77-4aea-ab24-b98dff8623d8",
   "metadata": {},
   "outputs": [],
   "source": [
    "import numpy as np\n",
    "import cv2\n",
    "img = cv2.imread('p2.png') # Read in your image\n",
    "viewImage(img)\n",
    "contours = leafs_contours\n",
    "idx = 0 # Индекс контура\n",
    "mask = np.zeros_like(img) # вектор с нулями, каждый пиксель представлен 0 - черный цвет\n",
    "\n",
    "cv2.drawContours(mask, contours, idx, [255, 255, 255], -1) # Рисуем на mask контур из contours под индексом idx белого цвета (-1 - заполненный контур)\n",
    "# Получаем черное изображение с белым пятном листа\n",
    "viewImage(mask)\n",
    "out = np.zeros_like(img) # Создаем еще один нулевой вектор, в него будем записывать изображение\n",
    "\n",
    "out[mask == [255, 255, 255]] = img_old[mask == [255, 255, 255]] # пиксели out[аналогичные пиксели в mask = 255] заменяются на пиксели img[аналогичные пиксели в mask = 255]\n",
    "\n",
    "viewImage(out)\n",
    "\n",
    "thresh = cv2.threshold(out, [0, 0 ,0] , [255, 255, 255], cv2.THRESH_OTSU + cv2.THRESH_BINARY)[1]\n",
    "viewImage(thresh)\n",
    "# Find contour and sort by contour area\n",
    "cnts = cv2.findContours(thresh, cv2.RETR_EXTERNAL, cv2.CHAIN_APPROX_SIMPLE)\n",
    "cnts = cnts[0] if len(cnts) == 2 else cnts[1]\n",
    "cnts = sorted(cnts, key=cv2.contourArea, reverse=True)\n",
    "\n",
    "# Find bounding box and extract ROI\n",
    "for c in cnts:\n",
    "    x,y,w,h = cv2.boundingRect(c)\n",
    "    y = y - 100\n",
    "    x = x - 100\n",
    "    ROI = out[y:y+h+200, x:x+w+200]\n",
    "    break\n",
    "\n",
    "viewImage(ROI)\n"
   ]
  },
  {
   "cell_type": "code",
   "execution_count": 8,
   "id": "b2e71656-ba02-44d3-aafb-552f52a4b791",
   "metadata": {},
   "outputs": [],
   "source": []
  },
  {
   "cell_type": "code",
   "execution_count": null,
   "id": "896bd477-19e6-4a90-a95c-cba7d567ace8",
   "metadata": {},
   "outputs": [],
   "source": []
  }
 ],
 "metadata": {
  "kernelspec": {
   "display_name": "Python 3 (ipykernel)",
   "language": "python",
   "name": "python3"
  },
  "language_info": {
   "codemirror_mode": {
    "name": "ipython",
    "version": 3
   },
   "file_extension": ".py",
   "mimetype": "text/x-python",
   "name": "python",
   "nbconvert_exporter": "python",
   "pygments_lexer": "ipython3",
   "version": "3.11.4"
  }
 },
 "nbformat": 4,
 "nbformat_minor": 5
}
