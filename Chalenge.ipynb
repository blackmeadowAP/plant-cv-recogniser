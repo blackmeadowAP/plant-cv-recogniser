{
 "cells": [
  {
   "cell_type": "code",
   "execution_count": 29,
   "id": "0930c694-6648-42cb-81ac-e8a579cf7b2f",
   "metadata": {
    "tags": []
   },
   "outputs": [],
   "source": [
    "# Импорт библиотек и предваритеьная настройка\n",
    "import pandas as pd\n",
    "import numpy as np\n",
    "import matplotlib.pyplot as plt\n",
    "import warnings\n",
    "import copy\n",
    "warnings.filterwarnings('ignore')"
   ]
  },
  {
   "cell_type": "code",
   "execution_count": 30,
   "id": "bdacea02-5446-4d31-a215-ad0a9a7cf91a",
   "metadata": {
    "tags": []
   },
   "outputs": [],
   "source": [
    "# Импорт необходимых функций\n",
    "from sklearn.metrics import accuracy_score\n",
    "from sklearn.metrics import confusion_matrix\n",
    "import sklearn.metrics as skmt\n",
    "recall_score = skmt.recall_score\n",
    "from sklearn.metrics import precision_score\n",
    "from sklearn.model_selection import train_test_split"
   ]
  },
  {
   "cell_type": "code",
   "execution_count": 45,
   "id": "e5168add-5c19-4c7e-8fdc-e6cefe88a0f2",
   "metadata": {
    "tags": []
   },
   "outputs": [],
   "source": [
    "from sklearn.datasets import load_breast_cancer\n",
    "df = load_breast_cancer()\n",
    "\n",
    "\n",
    "# разбиваем датафрейм на вход и выход\n",
    "\n",
    "x = df_del.drop(['target'], axis=1)\n",
    "y = df_del['target']"
   ]
  },
  {
   "cell_type": "code",
   "execution_count": 32,
   "id": "711b1e6d-6e62-4f60-8463-454a5ee24808",
   "metadata": {
    "tags": []
   },
   "outputs": [],
   "source": [
    "# Импорт моделей\n",
    "from sklearn.tree import DecisionTreeClassifier\n",
    "from sklearn.ensemble import RandomForestClassifier\n",
    "from sklearn.neighbors import KNeighborsClassifier\n",
    "from sklearn.linear_model import LogisticRegression\n",
    "from sklearn.neural_network import MLPClassifier"
   ]
  },
  {
   "cell_type": "code",
   "execution_count": 33,
   "id": "ee540845-82b8-4551-82e7-531b0e31a19e",
   "metadata": {
    "tags": []
   },
   "outputs": [
    {
     "name": "stdout",
     "output_type": "stream",
     "text": [
      "model - DecisionTreeClassifier(),\n",
      "accuracy_train - 1.0,\n",
      "accuracy_test - 0.8991,\n",
      "precision - 0.9254,\n",
      "recall - 0.9118\n"
     ]
    }
   ],
   "source": [
    "# Дерево решений\n",
    "model = DecisionTreeClassifier()\n",
    "train_x, test_x, train_y, test_y = train_test_split(x, y, test_size=0.2, random_state=40)\n",
    "model.fit(train_x, train_y)\n",
    "predicted_train = model.predict(train_x)\n",
    "predicted_test = model.predict(test_x)\n",
    "print(f'''model - {model},\n",
    "accuracy_train - {accuracy_score(train_y, predicted_train)},\n",
    "accuracy_test - {round(accuracy_score(test_y, predicted_test), 4)},\n",
    "precision - {round(precision_score(test_y, predicted_test), 4)},\n",
    "recall - {round(recall_score(test_y, predicted_test),4)}''')"
   ]
  },
  {
   "cell_type": "code",
   "execution_count": 50,
   "id": "76b61e91-9933-4685-acf5-ad021f6fd489",
   "metadata": {
    "tags": []
   },
   "outputs": [
    {
     "name": "stdout",
     "output_type": "stream",
     "text": [
      "1 0.9724770642201835\n",
      "2 0.9724770642201835\n",
      "3 0.9541284403669725\n",
      "4 0.981651376146789\n",
      "5 0.9724770642201835\n",
      "6 0.963302752293578\n",
      "7 0.963302752293578\n",
      "8 0.9724770642201835\n",
      "9 0.9724770642201835\n",
      "10 0.963302752293578\n",
      "11 0.963302752293578\n",
      "12 0.963302752293578\n",
      "13 0.9724770642201835\n",
      "14 0.9724770642201835\n",
      "15 0.963302752293578\n",
      "16 0.9724770642201835\n",
      "17 0.963302752293578\n",
      "18 0.9724770642201835\n",
      "19 0.9724770642201835\n",
      "20 0.963302752293578\n",
      "21 0.963302752293578\n",
      "22 0.963302752293578\n",
      "23 0.9724770642201835\n",
      "24 0.9541284403669725\n",
      "25 0.9724770642201835\n",
      "26 0.9724770642201835\n",
      "27 0.9724770642201835\n",
      "28 0.9541284403669725\n",
      "29 0.963302752293578\n",
      "30 0.9724770642201835\n",
      "31 0.9724770642201835\n",
      "32 0.963302752293578\n",
      "33 0.963302752293578\n",
      "34 0.9724770642201835\n",
      "35 0.9724770642201835\n",
      "36 0.9724770642201835\n",
      "37 0.9724770642201835\n",
      "38 0.9541284403669725\n",
      "39 0.9724770642201835\n",
      "40 0.9541284403669725\n",
      "[1, 1.0, 0.9724770642201835, 0.9850746268656716, 0.9705882352941176] [2, 1.0, 0.9724770642201835, 0.9850746268656716, 0.9705882352941176] [3, 1.0, 0.9541284403669725, 0.9701492537313433, 0.9558823529411765] [4, 1.0, 0.981651376146789, 0.9852941176470589, 0.9852941176470589] [5, 1.0, 0.9724770642201835, 0.9850746268656716, 0.9705882352941176] [6, 1.0, 0.963302752293578, 0.9705882352941176, 0.9705882352941176] [7, 1.0, 0.963302752293578, 0.9848484848484849, 0.9558823529411765] [8, 1.0, 0.9724770642201835, 0.9850746268656716, 0.9705882352941176] [9, 1.0, 0.9724770642201835, 0.9850746268656716, 0.9705882352941176] [10, 1.0, 0.963302752293578, 0.9848484848484849, 0.9558823529411765] [11, 1.0, 0.963302752293578, 0.9705882352941176, 0.9705882352941176] [12, 1.0, 0.963302752293578, 0.9848484848484849, 0.9558823529411765] [13, 1.0, 0.9724770642201835, 0.9850746268656716, 0.9705882352941176] [14, 1.0, 0.9724770642201835, 0.9850746268656716, 0.9705882352941176] [15, 1.0, 0.963302752293578, 0.9848484848484849, 0.9558823529411765] [16, 1.0, 0.9724770642201835, 0.9850746268656716, 0.9705882352941176] [17, 1.0, 0.963302752293578, 0.9848484848484849, 0.9558823529411765] [18, 1.0, 0.9724770642201835, 0.9850746268656716, 0.9705882352941176] [19, 1.0, 0.9724770642201835, 0.9850746268656716, 0.9705882352941176] [20, 1.0, 0.963302752293578, 0.9848484848484849, 0.9558823529411765] [21, 1.0, 0.963302752293578, 0.9705882352941176, 0.9705882352941176] [22, 1.0, 0.963302752293578, 0.9848484848484849, 0.9558823529411765] [23, 1.0, 0.9724770642201835, 0.9850746268656716, 0.9705882352941176] [24, 0.9976851851851852, 0.9541284403669725, 0.9701492537313433, 0.9558823529411765] [25, 1.0, 0.9724770642201835, 0.9850746268656716, 0.9705882352941176] [26, 1.0, 0.9724770642201835, 0.9850746268656716, 0.9705882352941176] [27, 1.0, 0.9724770642201835, 0.9850746268656716, 0.9705882352941176] [28, 1.0, 0.9541284403669725, 0.9701492537313433, 0.9558823529411765] [29, 1.0, 0.963302752293578, 0.9705882352941176, 0.9705882352941176] [30, 1.0, 0.9724770642201835, 0.9850746268656716, 0.9705882352941176] [31, 1.0, 0.9724770642201835, 0.9850746268656716, 0.9705882352941176] [32, 1.0, 0.963302752293578, 0.9705882352941176, 0.9705882352941176] [33, 1.0, 0.963302752293578, 0.9848484848484849, 0.9558823529411765] [34, 1.0, 0.9724770642201835, 0.9850746268656716, 0.9705882352941176] [35, 1.0, 0.9724770642201835, 0.9850746268656716, 0.9705882352941176] [36, 1.0, 0.9724770642201835, 0.9850746268656716, 0.9705882352941176] [37, 1.0, 0.9724770642201835, 0.9850746268656716, 0.9705882352941176] [38, 1.0, 0.9541284403669725, 0.9701492537313433, 0.9558823529411765] [39, 1.0, 0.9724770642201835, 0.9850746268656716, 0.9705882352941176] [40, 1.0, 0.9541284403669725, 0.9701492537313433, 0.9558823529411765]\n",
      "[4, 1.0, 0.981651376146789, 0.9852941176470589, 0.9852941176470589] [39, 1.0, 0.9724770642201835, 0.9850746268656716, 0.9705882352941176] [37, 1.0, 0.9724770642201835, 0.9850746268656716, 0.9705882352941176] [36, 1.0, 0.9724770642201835, 0.9850746268656716, 0.9705882352941176] [35, 1.0, 0.9724770642201835, 0.9850746268656716, 0.9705882352941176] [34, 1.0, 0.9724770642201835, 0.9850746268656716, 0.9705882352941176] [31, 1.0, 0.9724770642201835, 0.9850746268656716, 0.9705882352941176] [30, 1.0, 0.9724770642201835, 0.9850746268656716, 0.9705882352941176] [27, 1.0, 0.9724770642201835, 0.9850746268656716, 0.9705882352941176] [26, 1.0, 0.9724770642201835, 0.9850746268656716, 0.9705882352941176] [25, 1.0, 0.9724770642201835, 0.9850746268656716, 0.9705882352941176] [23, 1.0, 0.9724770642201835, 0.9850746268656716, 0.9705882352941176] [19, 1.0, 0.9724770642201835, 0.9850746268656716, 0.9705882352941176] [18, 1.0, 0.9724770642201835, 0.9850746268656716, 0.9705882352941176] [16, 1.0, 0.9724770642201835, 0.9850746268656716, 0.9705882352941176] [14, 1.0, 0.9724770642201835, 0.9850746268656716, 0.9705882352941176] [13, 1.0, 0.9724770642201835, 0.9850746268656716, 0.9705882352941176] [9, 1.0, 0.9724770642201835, 0.9850746268656716, 0.9705882352941176] [8, 1.0, 0.9724770642201835, 0.9850746268656716, 0.9705882352941176] [5, 1.0, 0.9724770642201835, 0.9850746268656716, 0.9705882352941176] [2, 1.0, 0.9724770642201835, 0.9850746268656716, 0.9705882352941176] [1, 1.0, 0.9724770642201835, 0.9850746268656716, 0.9705882352941176] [33, 1.0, 0.963302752293578, 0.9848484848484849, 0.9558823529411765] [32, 1.0, 0.963302752293578, 0.9705882352941176, 0.9705882352941176] [29, 1.0, 0.963302752293578, 0.9705882352941176, 0.9705882352941176] [22, 1.0, 0.963302752293578, 0.9848484848484849, 0.9558823529411765] [21, 1.0, 0.963302752293578, 0.9705882352941176, 0.9705882352941176] [20, 1.0, 0.963302752293578, 0.9848484848484849, 0.9558823529411765] [17, 1.0, 0.963302752293578, 0.9848484848484849, 0.9558823529411765] [15, 1.0, 0.963302752293578, 0.9848484848484849, 0.9558823529411765] [12, 1.0, 0.963302752293578, 0.9848484848484849, 0.9558823529411765] [11, 1.0, 0.963302752293578, 0.9705882352941176, 0.9705882352941176] [10, 1.0, 0.963302752293578, 0.9848484848484849, 0.9558823529411765] [7, 1.0, 0.963302752293578, 0.9848484848484849, 0.9558823529411765] [6, 1.0, 0.963302752293578, 0.9705882352941176, 0.9705882352941176] [40, 1.0, 0.9541284403669725, 0.9701492537313433, 0.9558823529411765] [38, 1.0, 0.9541284403669725, 0.9701492537313433, 0.9558823529411765] [28, 1.0, 0.9541284403669725, 0.9701492537313433, 0.9558823529411765] [24, 0.9976851851851852, 0.9541284403669725, 0.9701492537313433, 0.9558823529411765] [3, 1.0, 0.9541284403669725, 0.9701492537313433, 0.9558823529411765]\n",
      "0.981651376146789\n"
     ]
    }
   ],
   "source": [
    "# Случайный лес\n",
    "n = 100 # Кол-во деревьев\n",
    "model = RandomForestClassifier(n_estimators=n, oob_score=True, bootstrap=True) # Модеь и параметры\n",
    "x_train, x_test, y_train, y_test = train_test_split(x, y, test_size=0.2, random_state=40) # Разбиваем датасет на тест и трейн\n",
    "model.fit(x_train, y_train) # тренировка модели\n",
    "predicted_train = model.predict(x_train)\n",
    "predicted_test = model.predict(x_test)\n",
    "l = []\n",
    "for ind, tree in enumerate(model.estimators_): # Итерируемся по деревьям в модели\n",
    "    l.append([ind, tree.score(x_train, y_train)]) # добавляем в список список [номер дерева, результат по этому дереву]\n",
    "l = sorted(l, key=lambda x: x[1])[::-1] # сортируем список деревьев по score (от самого эффективного к самому неэффективному)\n",
    "model.estimators_ = np.array(model.estimators_)[[i[0] for i in l]].tolist() # изменяем поседовательность деревьев в модели по образу отсортированногго списка\n",
    "l1 = []\n",
    "for i in range(1, 41): # где i - число задействованных деревьев\n",
    "    model_test = copy.deepcopy(model) # копируем модель...\n",
    "    model_test.estimation_ = model.estimators_[:i] # ...и оставляем в ней i деревьев\n",
    "    print(len(model_test.estimation_), end=' ') # выводим кол-во деревьев, задействованных при моделировании\n",
    "    model_test.fit(x_train, y_train) # тренируем модель\n",
    "    predicted_train = model_test.predict(x_train)\n",
    "    predicted_test = model_test.predict(x_test)\n",
    "    print(accuracy_score(y_test, predicted_test))\n",
    "    l1.append([i, accuracy_score(y_train, predicted_train), accuracy_score(y_test, predicted_test),\n",
    "               precision_score(y_test, predicted_test), recall_score(y_test, predicted_test)]) # добавляем в список метрики натренированной модели\n",
    "print(*l1)\n",
    "l1 = sorted(l1, key=lambda x: x[2])[::-1]\n",
    "print(*l1)\n",
    "print(l1[0][2])\n",
    "#print()\n",
    "#print([i[0] for i in l1]) # выводим accuracy_score для моделей с кол-вом деревьев от 1 до 40\n",
    "\n",
    "#print(f'''model - {model},\n",
    "#accuracy_train - {accuracy_score(y_train, predicted_train)},\n",
    "#accuracy_test - {round(accuracy_score(y_test, predicted_test), 4)},\n",
    "#precision - {round(precision_score(y_test, predicted_test), 4)},\n",
    "#recall - {round(recall_score(y_test, predicted_test),4)}''')"
   ]
  },
  {
   "cell_type": "code",
   "execution_count": 14,
   "id": "d2fe8fd9-7949-4d1c-8da7-7498b075c5b4",
   "metadata": {
    "tags": []
   },
   "outputs": [
    {
     "data": {
      "text/plain": [
       "1.0"
      ]
     },
     "execution_count": 14,
     "metadata": {},
     "output_type": "execute_result"
    }
   ],
   "source": [
    "model = RandomForestClassifier(n_estimators=n, oob_score=True, bootstrap=True) # Модеь и параметры\n",
    "x_train, x_test, y_train, y_test = train_test_split(x, y, test_size=0.2, random_state=40) # Разбиваем датасет на тест и трейн\n",
    "model.fit(x_train, y_train) # тренировка модели\n",
    "predicted_train = model.predict(x_train)\n",
    "predicted_test = model.predict(x_test)\n",
    "l = []\n",
    "model.score(x_train, y_train)"
   ]
  },
  {
   "cell_type": "code",
   "execution_count": 55,
   "id": "efb460db-e9db-4015-994e-1332698856f8",
   "metadata": {
    "tags": []
   },
   "outputs": [
    {
     "name": "stdout",
     "output_type": "stream",
     "text": [
      "model - (KNeighborsClassifier(n_neighbors=11), 11),\n",
      "accuracy_train - 0.9004629629629629,\n",
      "accuracy_test - 0.926605504587156,\n",
      "precision - 0.9286,\n",
      "recall - 0.9559\n"
     ]
    }
   ],
   "source": [
    "l = []\n",
    "for i in range(1, 20):\n",
    "    model = KNeighborsClassifier(i)\n",
    "    x_train, x_test, y_train, y_test = train_test_split(x, y, test_size=0.2, random_state=40)\n",
    "    model.fit(x_train, y_train)\n",
    "    predicted_train = model.predict(x_train)\n",
    "    predicted_test = model.predict(x_test)\n",
    "    l.append([model, accuracy_score(y_train, predicted_train), accuracy_score(y_test, predicted_test), round(precision_score(y_test, predicted_test), 4),\n",
    "round(recall_score(y_test, predicted_test),4), i]) \n",
    "l = (max(l, key=lambda x: x[2]))\n",
    "print(f'''model - {l[0], l[5]},\n",
    "accuracy_train - {l[1]},\n",
    "accuracy_test - {l[2]},\n",
    "precision - {round(l[3], 4)},\n",
    "recall - {round(l[4], 4)}''')"
   ]
  },
  {
   "cell_type": "code",
   "execution_count": 53,
   "id": "2f98ce4e-e07f-48a0-b2b8-f8ce7437221f",
   "metadata": {
    "tags": []
   },
   "outputs": [
    {
     "name": "stdout",
     "output_type": "stream",
     "text": [
      "model - LogisticRegression(C=2.05),\n",
      "accuracy_train - 0.8539094650205762,\n",
      "accuracy_test - 0.87272727,\n",
      "precision - 0.8529,\n",
      "recall - 0.9355\n"
     ]
    }
   ],
   "source": [
    "# Логистическая регрессия\n",
    "l = []\n",
    "for i in np.arange(0.05, 5, 0.1):\n",
    "    model = LogisticRegression(C=round(i, 2))\n",
    "    x_train, x_test, y_train, y_test = train_test_split(x, y, test_size=0.1, random_state=40)\n",
    "    model.fit(x_train, y_train)\n",
    "    predicted_train = model.predict(x_train)\n",
    "    predicted_test = model.predict(x_test)\n",
    "    l.append([model, accuracy_score(y_train, predicted_train), round(accuracy_score(y_test, predicted_test), 8), round(precision_score(y_test, predicted_test), 4),\n",
    "round(recall_score(y_test, predicted_test),4), i]) \n",
    "l = (max(l, key=lambda x: x[2]))\n",
    "\n",
    "print(f'''model - {l[0]},\n",
    "accuracy_train - {l[1]},\n",
    "accuracy_test - {l[2]},\n",
    "precision - {round(l[3], 4)},\n",
    "recall - {round(l[4], 4)}''')"
   ]
  },
  {
   "cell_type": "code",
   "execution_count": 51,
   "id": "ba497b15-ad34-4346-9f48-ac1437d251b4",
   "metadata": {
    "tags": []
   },
   "outputs": [
    {
     "name": "stdout",
     "output_type": "stream",
     "text": [
      "0.8650793650793651\n",
      "0.8405\n",
      "0.86\n",
      "0.8776\n"
     ]
    }
   ],
   "source": [
    "x_train, x_test, y_train, y_test = train_test_split(x, y, test_size=0.3, random_state=42)\n",
    "model = MLPClassifier(hidden_layer_sizes=(100,))\n",
    "model.fit(x_train, y_train)\n",
    "predicted_train = model.predict(x_train) #метод predict показывает ответы модели для каждого семпла\n",
    "predicted_test = model.predict(x_test)\n",
    "print(  accuracy_score(y_train, predicted_train),\n",
    "        round(accuracy_score(y_test, predicted_test), 4), \n",
    "        round(precision_score(y_test, predicted_test), 4),\n",
    "        round(recall_score(y_test, predicted_test),4), sep='\\n')\n"
   ]
  },
  {
   "cell_type": "code",
   "execution_count": null,
   "id": "ce918e48-ac3b-4d02-8b1d-4f9d92ba9dd1",
   "metadata": {},
   "outputs": [],
   "source": []
  }
 ],
 "metadata": {
  "kernelspec": {
   "display_name": "Python 3 (ipykernel)",
   "language": "python",
   "name": "python3"
  },
  "language_info": {
   "codemirror_mode": {
    "name": "ipython",
    "version": 3
   },
   "file_extension": ".py",
   "mimetype": "text/x-python",
   "name": "python",
   "nbconvert_exporter": "python",
   "pygments_lexer": "ipython3",
   "version": "3.11.4"
  }
 },
 "nbformat": 4,
 "nbformat_minor": 5
}
